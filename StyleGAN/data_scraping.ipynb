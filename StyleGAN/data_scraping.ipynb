{
 "metadata": {
  "language_info": {
   "codemirror_mode": {
    "name": "ipython",
    "version": 3
   },
   "file_extension": ".py",
   "mimetype": "text/x-python",
   "name": "python",
   "nbconvert_exporter": "python",
   "pygments_lexer": "ipython3",
   "version": "3.7.4-final"
  },
  "orig_nbformat": 2,
  "kernelspec": {
   "name": "python3",
   "display_name": "Python 3.7.4 64-bit ('anaconda3-2019.10': conda)",
   "metadata": {
    "interpreter": {
     "hash": "636c4a3fb00eade5ef02184093f03e9b89a48f53525af3a2660163ec71464514"
    }
   }
  }
 },
 "nbformat": 4,
 "nbformat_minor": 2,
 "cells": [
  {
   "cell_type": "code",
   "execution_count": 84,
   "metadata": {},
   "outputs": [],
   "source": [
    "import pandas as pd"
   ]
  },
  {
   "cell_type": "code",
   "execution_count": 41,
   "metadata": {},
   "outputs": [],
   "source": [
    "import requests\n",
    "from bs4 import BeautifulSoup\n",
    "import json"
   ]
  },
  {
   "cell_type": "code",
   "execution_count": 115,
   "metadata": {},
   "outputs": [],
   "source": [
    "import re"
   ]
  },
  {
   "cell_type": "code",
   "execution_count": 13,
   "metadata": {},
   "outputs": [],
   "source": [
    "data = BeautifulSoup(site.text, 'html.parser')"
   ]
  },
  {
   "cell_type": "code",
   "execution_count": 18,
   "metadata": {
    "tags": []
   },
   "outputs": [
    {
     "output_type": "stream",
     "name": "stdout",
     "text": [
      "50\n"
     ]
    }
   ],
   "source": [
    "print(len(data.find_all('article')))"
   ]
  },
  {
   "cell_type": "code",
   "execution_count": 307,
   "metadata": {},
   "outputs": [],
   "source": [
    "query_data = {\n",
    "    'action' : 'scrollpagination',\n",
    "    'number' : '2300',\n",
    "    'offset' : '0',\n",
    "    'sqlc' : '[\"0\", \"538\"]',\n",
    "    'c1' : 'category_parent',\n",
    "    'c2' : '',\n",
    "    'c3' : '1'\n",
    "}"
   ]
  },
  {
   "cell_type": "code",
   "execution_count": 308,
   "metadata": {},
   "outputs": [],
   "source": [
    "res = requests.post('https://www.thefamouspeople.com/ajax/page_loader.php', query_data)"
   ]
  },
  {
   "cell_type": "code",
   "execution_count": 309,
   "metadata": {},
   "outputs": [],
   "source": [
    "data = BeautifulSoup(res.text, 'html.parser')"
   ]
  },
  {
   "cell_type": "code",
   "execution_count": 310,
   "metadata": {},
   "outputs": [],
   "source": [
    "articles = data.find_all('article')"
   ]
  },
  {
   "cell_type": "code",
   "execution_count": 311,
   "metadata": {},
   "outputs": [
    {
     "output_type": "execute_result",
     "data": {
      "text/plain": [
       "2280"
      ]
     },
     "metadata": {},
     "execution_count": 311
    }
   ],
   "source": [
    "len(articles)"
   ]
  },
  {
   "cell_type": "code",
   "execution_count": 235,
   "metadata": {},
   "outputs": [
    {
     "output_type": "execute_result",
     "data": {
      "text/plain": [
       "<article class=\"feature col-lg-12 col-md-12 col-sm-12 col-xs-12 eventstart internal_space\"><h2 class=\"ptitle\"><span class=\"number\"> 91 </span><a class=\"tileLink\" href=\"//www.thefamouspeople.com/profiles/mary-boleyn-33619.php\">Mary Boleyn</a></h2><div class=\"image col-lg-4 col-md-4 col-sm-4 col-xs-12\"><img alt=\"Mary Boleyn\" class=\"img-responsive combi-profile-img\" data-src=\"//www.thefamouspeople.com/profiles/thumbs/mary-boleyn-1.jpg\" src=\"\" title=\"Mary Boleyn\"/><div style=\"text-align:center;\"><i class=\"fa fa-thumbs-o-up like-btn-33619\" data-id=\"33619\"></i><i class=\"fa fa-thumbs-o-down dislike-btn-33619\" data-id=\"33619\"></i><div class=\"clear\"></div><span class=\"likes\">0</span><span class=\"dislikes\">1</span></div></div><div class=\"col-lg-8 col-md-8 col-sm-8 col-xs-12 rt-text-display\"><div class=\"desc-q\"><b>Famous As: </b>Mistress of Henry VIII</div><div class=\"desc-q\"><b>Birthdate: </b>1499 AD</div><div class=\"desc-q\"><b>Nationality: </b>British</div><div class=\"desc-q\"><b>Died: </b>July 19, 1543</div><div class=\"desc descEvent\"><p>Mary Boleyn was the sister of Anne Boleyn. As a sibling of the English queen consort, Boleyn enjoyed considerable influence during King Henry VIII's reign. Also known for her affairs with Henry VIII and King Francis I of France, Boleyn has been the subject of films, such as <em>The Other Boleyn Girl</em> in which she was portrayed by Scarlett Johansson.</p></div></div><script>var pid =33619;var ip = '114.19.78.139'; var list_id = ' 538'; var uid ='2itv9e60lcdb1v9g9bv2c8lug1'; var page_type='category_parent'; var parent_cat_id = '0';$(\".like-btn-\"+pid).on(\"click\",function(){var s=$(this).data(\"id\");$clicked_btn=$(this),$clicked_btn.hasClass(\"fa-thumbs-o-up\")?action=\"like\":$clicked_btn.hasClass(\"fa-thumbs-up\")&&(action=\"unlike\"),$.ajax({url:\"serverfile.php\",type:\"POST\",data:{action:action,post_id:s,user_id:uid,ip:ip,list_id:list_id,page_type:page_type,parent_cat_id:parent_cat_id},success:function(s){res=JSON.parse(s),\"like\"==action?($clicked_btn.removeClass(\"fa-thumbs-o-up\"),$clicked_btn.addClass(\"fa-thumbs-up\")):\"unlike\"==action&&($clicked_btn.removeClass(\"fa-thumbs-up\"),$clicked_btn.addClass(\"fa-thumbs-o-up\")),$clicked_btn.siblings(\"span.likes\").text(res.likes),$clicked_btn.siblings(\"span.dislikes\").text(res.dislikes),$clicked_btn.siblings(\"i.fa-thumbs-down\").removeClass(\"fa-thumbs-down\").addClass(\"fa-thumbs-o-down\")}})}),$(\".dislike-btn-\"+pid).on(\"click\",function(){var s=$(this).data(\"id\");$clicked_btn=$(this),$clicked_btn.hasClass(\"fa-thumbs-o-down\")?action=\"dislike\":$clicked_btn.hasClass(\"fa-thumbs-down\")&&(action=\"undislike\"),$.ajax({url:\"serverfile.php\",type:\"POST\",data:{action:action,post_id:s,user_id:uid,ip:ip,list_id:list_id,page_type:page_type,parent_cat_id:parent_cat_id},success:function(s){res=JSON.parse(s),\"dislike\"==action?($clicked_btn.removeClass(\"fa-thumbs-o-down\"),$clicked_btn.addClass(\"fa-thumbs-down\")):\"undislike\"==action&&($clicked_btn.removeClass(\"fa-thumbs-down\"),$clicked_btn.addClass(\"fa-thumbs-o-down\")),$clicked_btn.siblings(\"span.likes\").text(res.likes),$clicked_btn.siblings(\"span.dislikes\").text(res.dislikes),$clicked_btn.siblings(\"i.fa-thumbs-up\").removeClass(\"fa-thumbs-up\").addClass(\"fa-thumbs-o-up\")}})});</script></article>"
      ]
     },
     "metadata": {},
     "execution_count": 235
    }
   ],
   "source": [
    "articles[90]"
   ]
  },
  {
   "cell_type": "code",
   "execution_count": 121,
   "metadata": {},
   "outputs": [
    {
     "output_type": "execute_result",
     "data": {
      "text/plain": [
       "13"
      ]
     },
     "metadata": {},
     "execution_count": 121
    }
   ],
   "source": [
    "len('Nationality: ')"
   ]
  },
  {
   "cell_type": "code",
   "execution_count": 123,
   "metadata": {},
   "outputs": [
    {
     "output_type": "execute_result",
     "data": {
      "text/plain": [
       "'British'"
      ]
     },
     "metadata": {},
     "execution_count": 123
    }
   ],
   "source": [
    "# Nationality\n",
    "search = re.compile('Nationality: *')\n",
    "\n",
    "articles[0].find(text=search).parent.parent.text[13:]"
   ]
  },
  {
   "cell_type": "code",
   "execution_count": 126,
   "metadata": {},
   "outputs": [
    {
     "output_type": "execute_result",
     "data": {
      "text/plain": [
       "'November 14, 1948'"
      ]
     },
     "metadata": {},
     "execution_count": 126
    }
   ],
   "source": [
    "# Birth date\n",
    "search = re.compile('Birthdate: *')\n",
    "\n",
    "articles[0].find(text=search).parent.parent.text[11:]"
   ]
  },
  {
   "cell_type": "code",
   "execution_count": 313,
   "metadata": {},
   "outputs": [
    {
     "output_type": "stream",
     "name": "stdout",
     "text": [
      "January 20, 1936\n"
     ]
    }
   ],
   "source": [
    "# Died\n",
    "search = re.compile('Died: *')\n",
    "\n",
    "result_died = articles[5].find(text=search)\n",
    "if result_died:\n",
    "    print(result_died.parent.parent.text[6:])\n",
    "# for ind, i in enumerate(articles):\n",
    "#     print(ind)\n",
    "#     i.find(text=search).parent.parent.text[6:]"
   ]
  },
  {
   "cell_type": "code",
   "execution_count": 306,
   "metadata": {},
   "outputs": [
    {
     "output_type": "stream",
     "name": "stdout",
     "text": [
      "King\n"
     ]
    }
   ],
   "source": [
    "# famous_as\n",
    "search = re.compile('Famous As: *')\n",
    "result_famous = articles[204].find(text=search)\n",
    "if result_famous:\n",
    "    print(result_famous.parent.parent.text[11:])\n",
    "# articles[0].find_all('div')[3].find_all('div')[1].text[11:]"
   ]
  },
  {
   "cell_type": "code",
   "execution_count": 316,
   "metadata": {},
   "outputs": [
    {
     "output_type": "stream",
     "name": "stdout",
     "text": [
      "Emperors & Kings\n"
     ]
    }
   ],
   "source": [
    "# genre\n",
    "search = re.compile('Listed In: *')\n",
    "result_genre = articles[204].find(text=search)\n",
    "if result_genre:\n",
    "    print(result_genre.parent.parent.text[11:])"
   ]
  },
  {
   "cell_type": "code",
   "execution_count": 319,
   "metadata": {},
   "outputs": [],
   "source": [
    "def pick_element(search_word, article):\n",
    "    search = re.compile(search_word + ': *')\n",
    "    result = article.find(text = search)\n",
    "    if result:\n",
    "        return result.parent.parent.text[len(search_word) + 2:]\n",
    "    return ''"
   ]
  },
  {
   "cell_type": "code",
   "execution_count": 323,
   "metadata": {},
   "outputs": [
    {
     "output_type": "stream",
     "name": "stdout",
     "text": [
      "Emperors & Kings\nApril 13, 1519\n\n"
     ]
    }
   ],
   "source": [
    "print(pick_element('Listed In', articles[204]))\n",
    "print(pick_element('Birthdate', articles[100]))\n",
    "print(pick_element('Died', articles[0]))"
   ]
  },
  {
   "cell_type": "code",
   "execution_count": 315,
   "metadata": {},
   "outputs": [
    {
     "output_type": "execute_result",
     "data": {
      "text/plain": [
       "11"
      ]
     },
     "metadata": {},
     "execution_count": 315
    }
   ],
   "source": [
    "len('Listed In: ')"
   ]
  },
  {
   "cell_type": "code",
   "execution_count": 156,
   "metadata": {},
   "outputs": [],
   "source": [
    "# genre\n",
    "search_genre = re.compile('Listed In: *')\n",
    "articles[90].find(text=search_genre)"
   ]
  },
  {
   "cell_type": "code",
   "execution_count": 87,
   "metadata": {},
   "outputs": [
    {
     "output_type": "execute_result",
     "data": {
      "text/plain": [
       "'Charles, Prince of Wales'"
      ]
     },
     "metadata": {},
     "execution_count": 87
    }
   ],
   "source": [
    "# name\n",
    "articles[0].find_all('a')[0].text"
   ]
  },
  {
   "cell_type": "code",
   "execution_count": 189,
   "metadata": {},
   "outputs": [
    {
     "output_type": "execute_result",
     "data": {
      "text/plain": [
       "''"
      ]
     },
     "metadata": {},
     "execution_count": 189
    }
   ],
   "source": [
    "# image\n",
    "articles[95].find_all('img')[0]['src']"
   ]
  },
  {
   "cell_type": "code",
   "execution_count": 192,
   "metadata": {},
   "outputs": [
    {
     "output_type": "execute_result",
     "data": {
      "text/plain": [
       "'//www.thefamouspeople.com/profiles/thumbs/babur-1.jpg'"
      ]
     },
     "metadata": {},
     "execution_count": 192
    }
   ],
   "source": [
    "articles[95].find('img')['data-src']"
   ]
  },
  {
   "cell_type": "code",
   "execution_count": 134,
   "metadata": {},
   "outputs": [],
   "source": [
    "df0 = pd.DataFrame(\n",
    "    ['www.thefamouspeople.com/profiles/thumbs/charles-prince-of-wales-1.jpg',\n",
    "    'Charles, Prince of Wales',\n",
    "    'Emperors & Kings',\n",
    "    'Prince of Wales',\n",
    "    'British',\n",
    "    'November 14, 1948'],\n",
    "    index = dataset.columns\n",
    ")"
   ]
  },
  {
   "cell_type": "code",
   "execution_count": 136,
   "metadata": {},
   "outputs": [
    {
     "output_type": "execute_result",
     "data": {
      "text/plain": [
       "                                               image  \\\n",
       "0  www.thefamouspeople.com/profiles/thumbs/charle...   \n",
       "\n",
       "                       name             genre        famous_as nationality  \\\n",
       "0  Charles, Prince of Wales  Emperors & Kings  Prince of Wales     British   \n",
       "\n",
       "               birth  \n",
       "0  November 14, 1948  "
      ],
      "text/html": "<div>\n<style scoped>\n    .dataframe tbody tr th:only-of-type {\n        vertical-align: middle;\n    }\n\n    .dataframe tbody tr th {\n        vertical-align: top;\n    }\n\n    .dataframe thead th {\n        text-align: right;\n    }\n</style>\n<table border=\"1\" class=\"dataframe\">\n  <thead>\n    <tr style=\"text-align: right;\">\n      <th></th>\n      <th>image</th>\n      <th>name</th>\n      <th>genre</th>\n      <th>famous_as</th>\n      <th>nationality</th>\n      <th>birth</th>\n    </tr>\n  </thead>\n  <tbody>\n    <tr>\n      <td>0</td>\n      <td>www.thefamouspeople.com/profiles/thumbs/charle...</td>\n      <td>Charles, Prince of Wales</td>\n      <td>Emperors &amp; Kings</td>\n      <td>Prince of Wales</td>\n      <td>British</td>\n      <td>November 14, 1948</td>\n    </tr>\n  </tbody>\n</table>\n</div>"
     },
     "metadata": {},
     "execution_count": 136
    }
   ],
   "source": [
    "df0.T"
   ]
  },
  {
   "cell_type": "code",
   "execution_count": 173,
   "metadata": {},
   "outputs": [
    {
     "output_type": "execute_result",
     "data": {
      "text/plain": [
       "                                               image  \\\n",
       "0  www.thefamouspeople.com/profiles/thumbs/charle...   \n",
       "\n",
       "                       name             genre        famous_as nationality  \\\n",
       "0  Charles, Prince of Wales  Emperors & Kings  Prince of Wales     British   \n",
       "\n",
       "               birth  \n",
       "0  November 14, 1948  "
      ],
      "text/html": "<div>\n<style scoped>\n    .dataframe tbody tr th:only-of-type {\n        vertical-align: middle;\n    }\n\n    .dataframe tbody tr th {\n        vertical-align: top;\n    }\n\n    .dataframe thead th {\n        text-align: right;\n    }\n</style>\n<table border=\"1\" class=\"dataframe\">\n  <thead>\n    <tr style=\"text-align: right;\">\n      <th></th>\n      <th>image</th>\n      <th>name</th>\n      <th>genre</th>\n      <th>famous_as</th>\n      <th>nationality</th>\n      <th>birth</th>\n    </tr>\n  </thead>\n  <tbody>\n    <tr>\n      <td>0</td>\n      <td>www.thefamouspeople.com/profiles/thumbs/charle...</td>\n      <td>Charles, Prince of Wales</td>\n      <td>Emperors &amp; Kings</td>\n      <td>Prince of Wales</td>\n      <td>British</td>\n      <td>November 14, 1948</td>\n    </tr>\n  </tbody>\n</table>\n</div>"
     },
     "metadata": {},
     "execution_count": 173
    }
   ],
   "source": [
    "dataset.append(df0.T)"
   ]
  },
  {
   "source": [
    "# make dataset"
   ],
   "cell_type": "markdown",
   "metadata": {}
  },
  {
   "cell_type": "code",
   "execution_count": 324,
   "metadata": {},
   "outputs": [],
   "source": [
    "dataset = pd.DataFrame(columns=[\n",
    "    'image',\n",
    "    'name',\n",
    "    'genre',\n",
    "    'famous_as',\n",
    "    'nationality',\n",
    "    'birth',\n",
    "    'died'\n",
    "])"
   ]
  },
  {
   "cell_type": "code",
   "execution_count": 325,
   "metadata": {},
   "outputs": [],
   "source": [
    "# search_birth = re.compile('Birthdate: *')\n",
    "# search_nationality = re.compile('Nationality: *')\n",
    "# search_died = re.compile('Died: *')\n",
    "\n",
    "for ind, article in enumerate(articles):\n",
    "    #print(ind)\n",
    "\n",
    "    # image\n",
    "    image = article.find_all('img')[0]['src']\n",
    "    if image == '':\n",
    "        image = article.find('img')['data-src']\n",
    "    # name\n",
    "    name = article.find_all('a')[0].text\n",
    "\n",
    "    # genre\n",
    "    genre = pick_element('Listed In', article)\n",
    "    # try:\n",
    "    #     # genre\n",
    "    #     genre = article.find_all('a')[1].text\n",
    "    # except:\n",
    "    #     genre = ''\n",
    "\n",
    "    # famous_as\n",
    "    famous_as = pick_element('Famous As', article)\n",
    "    # famous_as = article.find_all('div')[3].find_all('div')[1].text[11:]\n",
    "\n",
    "    # Birth date\n",
    "    birth_date = pick_element('Birthdate', article)\n",
    "    # birth_date = article.find(text=search_birth).parent.parent.text[11:]\n",
    "\n",
    "    # Nationality\n",
    "    nationality = pick_element('Nationality', article)\n",
    "    # nationality = article.find(text=search_nationality).parent.parent.text[13:]\n",
    "\n",
    "    # Died\n",
    "    died = pick_element('Died', article)\n",
    "    # result_died = article.find(text=search_died)\n",
    "    # died = ''\n",
    "    # if result_died:\n",
    "    #     died = result_died.parent.parent.text[6:]\n",
    "    \n",
    "\n",
    "    _df = pd.DataFrame(\n",
    "    ['https:'+image,\n",
    "    name,\n",
    "    genre,\n",
    "    famous_as,\n",
    "    nationality,\n",
    "    birth_date,\n",
    "    died],\n",
    "    index = dataset.columns\n",
    "    )\n",
    "\n",
    "    dataset = dataset.append(_df.T)\n",
    "    # print(_df.T)\n",
    "    # print(dataset)\n",
    "dataset = dataset.reset_index(drop=True)"
   ]
  },
  {
   "cell_type": "code",
   "execution_count": 326,
   "metadata": {},
   "outputs": [
    {
     "output_type": "execute_result",
     "data": {
      "text/plain": [
       "(2280, 7)"
      ]
     },
     "metadata": {},
     "execution_count": 326
    }
   ],
   "source": [
    "dataset.shape"
   ]
  },
  {
   "cell_type": "code",
   "execution_count": 327,
   "metadata": {},
   "outputs": [],
   "source": [
    "dataset.to_csv('datasets/people_list2.csv')"
   ]
  },
  {
   "cell_type": "code",
   "execution_count": 259,
   "metadata": {},
   "outputs": [
    {
     "output_type": "stream",
     "name": "stdout",
     "text": [
      "                                               image  \\\n0  https://www.thefamouspeople.com/profiles/thumb...   \n1  https://www.thefamouspeople.com/profiles/thumb...   \n2  https://www.thefamouspeople.com/profiles/thumb...   \n3  https://www.thefamouspeople.com/profiles/thumb...   \n4  https://www.thefamouspeople.com/profiles/thumb...   \n\n                       name               genre  \\\n0  Charles, Prince of Wales    Emperors & Kings   \n1                 Cleopatra  Empresses & Queens   \n2                 George VI    Emperors & Kings   \n3            Mahatma Gandhi   Political Leaders   \n4            Queen Victoria  Empresses & Queens   \n\n                                           famous_as      nationality  \\\n0                                    Prince of Wales          British   \n1                     Queen of the Ptolemaic Kingdom  Egyptian, Greek   \n2                  Former King of the United Kingdom          British   \n3             Leader of Indian Independence Movement           Indian   \n4  Queen of the United Kingdom of Great Britain a...          British   \n\n               birth              died  \n0  November 14, 1948               NaN  \n1            0069 BC   August 12, 0030  \n2  December 14, 1895  February 6, 1952  \n3    October 2, 1869  January 30, 1948  \n4       May 24, 1819  January 22, 1901  \n"
     ]
    }
   ],
   "source": [
    "dataset2 = pd.read_csv('datasets/people_list.csv', index_col=0)\n",
    "print(dataset2.head())"
   ]
  },
  {
   "cell_type": "code",
   "execution_count": 278,
   "metadata": {},
   "outputs": [],
   "source": [
    "import os\n",
    "import pprint\n",
    "import time\n",
    "\n",
    "def download_file(url, dst_path):\n",
    "    try:\n",
    "        with requests.get(url) as web_file:\n",
    "            data = web_file.content\n",
    "            with open(dst_path, mode='wb') as local_file:\n",
    "                local_file.write(data)\n",
    "    except requests.exceptions.RequestException as e:\n",
    "        print(e)"
   ]
  },
  {
   "cell_type": "code",
   "execution_count": 279,
   "metadata": {},
   "outputs": [],
   "source": [
    "download_file(dataset['image'][0], 'datasets/0.jpg')"
   ]
  },
  {
   "cell_type": "code",
   "execution_count": 288,
   "metadata": {},
   "outputs": [],
   "source": [
    "from tqdm.notebook import tqdm"
   ]
  },
  {
   "cell_type": "code",
   "execution_count": 329,
   "metadata": {},
   "outputs": [
    {
     "output_type": "execute_result",
     "data": {
      "text/plain": [
       "2280"
      ]
     },
     "metadata": {},
     "execution_count": 329
    }
   ],
   "source": [
    "len(dataset['image'])"
   ]
  },
  {
   "cell_type": "code",
   "execution_count": 294,
   "metadata": {},
   "outputs": [
    {
     "output_type": "display_data",
     "data": {
      "text/plain": "HBox(children=(IntProgress(value=0, max=1028), HTML(value='')))",
      "application/vnd.jupyter.widget-view+json": {
       "version_major": 2,
       "version_minor": 0,
       "model_id": "be07addb90f347b29ce8625465ed7232"
      }
     },
     "metadata": {}
    },
    {
     "output_type": "stream",
     "name": "stdout",
     "text": [
      "No connection adapters were found for 'https:https://www.thefamouspeople.com/images/no_image.jpg.webp'\n",
      "No connection adapters were found for 'https:https://www.thefamouspeople.com/images/no_image.jpg.webp'\n",
      "No connection adapters were found for 'https:https://www.thefamouspeople.com/images/no_image.jpg.webp'\n",
      "No connection adapters were found for 'https:https://www.thefamouspeople.com/images/no_image.jpg.webp'\n",
      "No connection adapters were found for 'https:https://www.thefamouspeople.com/images/no_image.jpg.webp'\n",
      "No connection adapters were found for 'https:https://www.thefamouspeople.com/images/no_image.jpg.webp'\n",
      "No connection adapters were found for 'https:https://www.thefamouspeople.com/images/no_image.jpg.webp'\n",
      "No connection adapters were found for 'https:https://www.thefamouspeople.com/images/no_image.jpg.webp'\n",
      "No connection adapters were found for 'https:https://www.thefamouspeople.com/images/no_image.jpg.webp'\n",
      "No connection adapters were found for 'https:https://www.thefamouspeople.com/images/no_image.jpg.webp'\n",
      "No connection adapters were found for 'https:https://www.thefamouspeople.com/images/no_image.jpg.webp'\n",
      "No connection adapters were found for 'https:https://www.thefamouspeople.com/images/no_image.jpg.webp'\n",
      "No connection adapters were found for 'https:https://www.thefamouspeople.com/images/no_image.jpg.webp'\n",
      "No connection adapters were found for 'https:https://www.thefamouspeople.com/images/no_image.jpg.webp'\n",
      "No connection adapters were found for 'https:https://www.thefamouspeople.com/images/no_image.jpg.webp'\n",
      "No connection adapters were found for 'https:https://www.thefamouspeople.com/images/no_image.jpg.webp'\n",
      "No connection adapters were found for 'https:https://www.thefamouspeople.com/images/no_image.jpg.webp'\n",
      "No connection adapters were found for 'https:https://www.thefamouspeople.com/images/no_image.jpg.webp'\n",
      "No connection adapters were found for 'https:https://www.thefamouspeople.com/images/no_image.jpg.webp'\n",
      "No connection adapters were found for 'https:https://www.thefamouspeople.com/images/no_image.jpg.webp'\n",
      "No connection adapters were found for 'https:https://www.thefamouspeople.com/images/no_image.jpg.webp'\n",
      "No connection adapters were found for 'https:https://www.thefamouspeople.com/images/no_image.jpg.webp'\n",
      "No connection adapters were found for 'https:https://www.thefamouspeople.com/images/no_image.jpg.webp'\n",
      "No connection adapters were found for 'https:https://www.thefamouspeople.com/images/no_image.jpg.webp'\n",
      "No connection adapters were found for 'https:https://www.thefamouspeople.com/images/no_image.jpg.webp'\n",
      "No connection adapters were found for 'https:https://www.thefamouspeople.com/images/no_image.jpg.webp'\n",
      "No connection adapters were found for 'https:https://www.thefamouspeople.com/images/no_image.jpg.webp'\n",
      "No connection adapters were found for 'https:https://www.thefamouspeople.com/images/no_image.jpg.webp'\n",
      "No connection adapters were found for 'https:https://www.thefamouspeople.com/images/no_image.jpg.webp'\n",
      "No connection adapters were found for 'https:https://www.thefamouspeople.com/images/no_image.jpg.webp'\n",
      "No connection adapters were found for 'https:https://www.thefamouspeople.com/images/no_image.jpg.webp'\n",
      "No connection adapters were found for 'https:https://www.thefamouspeople.com/images/no_image.jpg.webp'\n",
      "No connection adapters were found for 'https:https://www.thefamouspeople.com/images/no_image.jpg.webp'\n",
      "No connection adapters were found for 'https:https://www.thefamouspeople.com/images/no_image.jpg.webp'\n",
      "No connection adapters were found for 'https:https://www.thefamouspeople.com/images/no_image.jpg.webp'\n",
      "No connection adapters were found for 'https:https://www.thefamouspeople.com/images/no_image.jpg.webp'\n",
      "No connection adapters were found for 'https:https://www.thefamouspeople.com/images/no_image.jpg.webp'\n",
      "No connection adapters were found for 'https:https://www.thefamouspeople.com/images/no_image.jpg.webp'\n",
      "No connection adapters were found for 'https:https://www.thefamouspeople.com/images/no_image.jpg.webp'\n",
      "No connection adapters were found for 'https:https://www.thefamouspeople.com/images/no_image.jpg.webp'\n",
      "No connection adapters were found for 'https:https://www.thefamouspeople.com/images/no_image.jpg.webp'\n",
      "No connection adapters were found for 'https:https://www.thefamouspeople.com/images/no_image.jpg.webp'\n",
      "No connection adapters were found for 'https:https://www.thefamouspeople.com/images/no_image.jpg.webp'\n",
      "No connection adapters were found for 'https:https://www.thefamouspeople.com/images/no_image.jpg.webp'\n",
      "No connection adapters were found for 'https:https://www.thefamouspeople.com/images/no_image.jpg.webp'\n",
      "No connection adapters were found for 'https:https://www.thefamouspeople.com/images/no_image.jpg.webp'\n",
      "No connection adapters were found for 'https:https://www.thefamouspeople.com/images/no_image.jpg.webp'\n",
      "No connection adapters were found for 'https:https://www.thefamouspeople.com/images/no_image.jpg.webp'\n",
      "No connection adapters were found for 'https:https://www.thefamouspeople.com/images/no_image.jpg.webp'\n",
      "No connection adapters were found for 'https:https://www.thefamouspeople.com/images/no_image.jpg.webp'\n",
      "No connection adapters were found for 'https:https://www.thefamouspeople.com/images/no_image.jpg.webp'\n",
      "No connection adapters were found for 'https:https://www.thefamouspeople.com/images/no_image.jpg.webp'\n",
      "No connection adapters were found for 'https:https://www.thefamouspeople.com/images/no_image.jpg.webp'\n",
      "No connection adapters were found for 'https:https://www.thefamouspeople.com/images/no_image.jpg.webp'\n",
      "No connection adapters were found for 'https:https://www.thefamouspeople.com/images/no_image.jpg.webp'\n",
      "No connection adapters were found for 'https:https://www.thefamouspeople.com/images/no_image.jpg.webp'\n",
      "No connection adapters were found for 'https:https://www.thefamouspeople.com/images/no_image.jpg.webp'\n",
      "\n"
     ]
    }
   ],
   "source": [
    "for ind, image_url in enumerate(tqdm(dataset['image'][1252:])):\n",
    "    download_file(image_url, f'datasets/img/{ind+1252}.jpg')\n",
    "    time.sleep(1)"
   ]
  },
  {
   "cell_type": "code",
   "execution_count": 289,
   "metadata": {},
   "outputs": [
    {
     "output_type": "display_data",
     "data": {
      "text/plain": "HBox(children=(IntProgress(value=0, max=10), HTML(value='')))",
      "application/vnd.jupyter.widget-view+json": {
       "version_major": 2,
       "version_minor": 0,
       "model_id": "f9793e82d6844d8e881ac2743c82cd2d"
      }
     },
     "metadata": {}
    },
    {
     "output_type": "stream",
     "name": "stdout",
     "text": [
      "\n"
     ]
    }
   ],
   "source": [
    "for i in tqdm(range(10)):\n",
    "    time.sleep(1)"
   ]
  },
  {
   "cell_type": "code",
   "execution_count": null,
   "metadata": {},
   "outputs": [],
   "source": [
    "print('aaa')"
   ]
  },
  {
   "cell_type": "code",
   "execution_count": null,
   "metadata": {},
   "outputs": [],
   "source": []
  }
 ]
}